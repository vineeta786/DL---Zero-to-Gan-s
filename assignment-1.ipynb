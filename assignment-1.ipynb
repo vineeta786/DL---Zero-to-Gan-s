{
 "cells": [
  {
   "cell_type": "markdown",
   "metadata": {},
   "source": [
    "# Pytorch Assignment - 01\n",
    "\n",
    "### Explain five interesting Pytorch functions and explain them.\n",
    "\n",
    "Functions explained are as follows :\n",
    "- torch.zeros()\n",
    "- torch.range()\n",
    "- torch.narrow() \n",
    "- torch.reshape()\n",
    "- torch.transpose()"
   ]
  },
  {
   "cell_type": "code",
   "execution_count": 2,
   "metadata": {},
   "outputs": [],
   "source": [
    "# Import torch and other required modules\n",
    "import torch"
   ]
  },
  {
   "cell_type": "markdown",
   "metadata": {},
   "source": [
    "## Function 1 - torch.zeros()\n",
    "\n",
    "It is used to create a tensor of scalar value 0 and the six=ze of the same is dividex by the size parameter passed in the function."
   ]
  },
  {
   "cell_type": "code",
   "execution_count": 2,
   "metadata": {},
   "outputs": [
    {
     "data": {
      "text/plain": [
       "tensor([0., 0.])"
      ]
     },
     "execution_count": 2,
     "metadata": {},
     "output_type": "execute_result"
    }
   ],
   "source": [
    "# Example 1 - tensor of size 2\n",
    "torch.zeros(2)"
   ]
  },
  {
   "cell_type": "markdown",
   "metadata": {},
   "source": [
    "A tensor of size 2 is created with scaler value 0 , in float datatype."
   ]
  },
  {
   "cell_type": "code",
   "execution_count": 3,
   "metadata": {},
   "outputs": [
    {
     "data": {
      "text/plain": [
       "tensor([[0., 0.],\n",
       "        [0., 0.],\n",
       "        [0., 0.]])"
      ]
     },
     "execution_count": 3,
     "metadata": {},
     "output_type": "execute_result"
    }
   ],
   "source": [
    "# Example 2 \n",
    "torch.zeros(3,2)"
   ]
  },
  {
   "cell_type": "markdown",
   "metadata": {},
   "source": [
    "A tensor of 2 dimensions is created with size passed as arguments to the function. We have created a tensore of size 2 cross 3 containing scalar 0 as its value."
   ]
  },
  {
   "cell_type": "code",
   "execution_count": 4,
   "metadata": {},
   "outputs": [
    {
     "ename": "RuntimeError",
     "evalue": "Trying to create tensor with negative dimension -2: [-2]",
     "output_type": "error",
     "traceback": [
      "\u001b[0;31m---------------------------------------------------------------------------\u001b[0m",
      "\u001b[0;31mRuntimeError\u001b[0m                              Traceback (most recent call last)",
      "\u001b[0;32m<ipython-input-4-d4f555061275>\u001b[0m in \u001b[0;36m<module>\u001b[0;34m\u001b[0m\n\u001b[1;32m      1\u001b[0m \u001b[0;31m# Example 3\u001b[0m\u001b[0;34m\u001b[0m\u001b[0;34m\u001b[0m\u001b[0;34m\u001b[0m\u001b[0m\n\u001b[0;32m----> 2\u001b[0;31m \u001b[0mtorch\u001b[0m\u001b[0;34m.\u001b[0m\u001b[0mzeros\u001b[0m\u001b[0;34m(\u001b[0m\u001b[0;34m-\u001b[0m\u001b[0;36m2\u001b[0m\u001b[0;34m)\u001b[0m\u001b[0;34m\u001b[0m\u001b[0;34m\u001b[0m\u001b[0m\n\u001b[0m",
      "\u001b[0;31mRuntimeError\u001b[0m: Trying to create tensor with negative dimension -2: [-2]"
     ]
    }
   ],
   "source": [
    "# Example 3 \n",
    "torch.zeros(-2)"
   ]
  },
  {
   "cell_type": "markdown",
   "metadata": {},
   "source": [
    "The function breaks here as we can't create tensors with negative dimensions hence our code breaks."
   ]
  },
  {
   "cell_type": "markdown",
   "metadata": {},
   "source": [
    "torch.zeros() can be used to initialize our torch tensor before we start working with it and can also be used to get the bitwise operations performed on the tensors."
   ]
  },
  {
   "cell_type": "markdown",
   "metadata": {},
   "source": [
    "## Function 2 - torch.range()\n",
    "\n",
    "torch.range(start=0, end, step=1, out=None, dtype=None, layout=torch.strided, device=None, requires_grad=False) → Tensor\n",
    "torch.range() has many parameters to input but the main being start and end, post execution we get a tensor starting from the start value till the end value passed in the arguments."
   ]
  },
  {
   "cell_type": "code",
   "execution_count": 5,
   "metadata": {},
   "outputs": [
    {
     "name": "stderr",
     "output_type": "stream",
     "text": [
      "/srv/conda/envs/notebook/lib/python3.7/site-packages/ipykernel_launcher.py:2: UserWarning: torch.range is deprecated in favor of torch.arange and will be removed in 0.5. Note that arange generates values in [start; end), not [start; end].\n",
      "  \n"
     ]
    },
    {
     "data": {
      "text/plain": [
       "tensor([ 5.,  6.,  7.,  8.,  9., 10., 11., 12.])"
      ]
     },
     "execution_count": 5,
     "metadata": {},
     "output_type": "execute_result"
    }
   ],
   "source": [
    "# Example 1 \n",
    "torch.range(5,12)"
   ]
  },
  {
   "cell_type": "markdown",
   "metadata": {},
   "source": [
    "We get a tensor starting from the start value and ending at the end value and default step size being 1."
   ]
  },
  {
   "cell_type": "code",
   "execution_count": 6,
   "metadata": {},
   "outputs": [
    {
     "name": "stderr",
     "output_type": "stream",
     "text": [
      "/srv/conda/envs/notebook/lib/python3.7/site-packages/ipykernel_launcher.py:2: UserWarning: torch.range is deprecated in favor of torch.arange and will be removed in 0.5. Note that arange generates values in [start; end), not [start; end].\n",
      "  \n"
     ]
    },
    {
     "data": {
      "text/plain": [
       "tensor([20., 25., 30.])"
      ]
     },
     "execution_count": 6,
     "metadata": {},
     "output_type": "execute_result"
    }
   ],
   "source": [
    "# Example 2 - working\n",
    "torch.range(20,30,5)"
   ]
  },
  {
   "cell_type": "markdown",
   "metadata": {},
   "source": [
    "In the above example we get a tensor output from the start value = 20 till end value = 30 and the step size being 5 as passed in the arguments."
   ]
  },
  {
   "cell_type": "code",
   "execution_count": 12,
   "metadata": {},
   "outputs": [
    {
     "name": "stderr",
     "output_type": "stream",
     "text": [
      "/srv/conda/envs/notebook/lib/python3.7/site-packages/ipykernel_launcher.py:2: UserWarning: torch.range is deprecated in favor of torch.arange and will be removed in 0.5. Note that arange generates values in [start; end), not [start; end].\n",
      "  \n"
     ]
    },
    {
     "ename": "RuntimeError",
     "evalue": "upper bound and larger bound inconsistent with step sign",
     "output_type": "error",
     "traceback": [
      "\u001b[0;31m---------------------------------------------------------------------------\u001b[0m",
      "\u001b[0;31mRuntimeError\u001b[0m                              Traceback (most recent call last)",
      "\u001b[0;32m<ipython-input-12-e158fb9875d8>\u001b[0m in \u001b[0;36m<module>\u001b[0;34m\u001b[0m\n\u001b[1;32m      1\u001b[0m \u001b[0;31m# Example 3 - breaking\u001b[0m\u001b[0;34m\u001b[0m\u001b[0;34m\u001b[0m\u001b[0;34m\u001b[0m\u001b[0m\n\u001b[0;32m----> 2\u001b[0;31m \u001b[0mtorch\u001b[0m\u001b[0;34m.\u001b[0m\u001b[0mrange\u001b[0m\u001b[0;34m(\u001b[0m\u001b[0;34m-\u001b[0m\u001b[0;36m1\u001b[0m\u001b[0;34m,\u001b[0m\u001b[0;34m-\u001b[0m\u001b[0;36m12\u001b[0m\u001b[0;34m,\u001b[0m\u001b[0;36m2\u001b[0m\u001b[0;34m)\u001b[0m\u001b[0;34m\u001b[0m\u001b[0;34m\u001b[0m\u001b[0m\n\u001b[0m",
      "\u001b[0;31mRuntimeError\u001b[0m: upper bound and larger bound inconsistent with step sign"
     ]
    }
   ],
   "source": [
    "# Example 3 - breaking\n",
    "torch.range(-1,-12,2)\n"
   ]
  },
  {
   "cell_type": "markdown",
   "metadata": {},
   "source": [
    "In the above example we have taken the upper bound and lower bound inconsistent with the size of step allowed to us, as we can never move to more negative values by taking a positive step."
   ]
  },
  {
   "cell_type": "markdown",
   "metadata": {},
   "source": [
    "torch.range(start,end,step) function can be used to generate desired tensors, here we have the control on the range of values present in the tensor."
   ]
  },
  {
   "cell_type": "markdown",
   "metadata": {},
   "source": [
    "## Function 3 - torch.narrow() \n",
    "\n",
    "torch.narrow(input, dim, start, length) → Tensor\n",
    "Used to resize the tensor provided , the parameters entered are as follows :\n",
    "input - takes in the input tensor on which the operation is to be done.\n",
    "dim - axis along which the operation is to be done\n",
    "start - index from where operation needs to start\n",
    "length - length of the tensor output\n"
   ]
  },
  {
   "cell_type": "code",
   "execution_count": 2,
   "metadata": {},
   "outputs": [
    {
     "name": "stdout",
     "output_type": "stream",
     "text": [
      "Initial tensor :\n",
      "tensor([[ 0,  1,  2,  3],\n",
      "        [ 1,  4,  5,  6],\n",
      "        [ 2,  7,  8,  9],\n",
      "        [ 3, 10, 11, 12]])\n",
      "After Narrowing the tensor :\n"
     ]
    },
    {
     "data": {
      "text/plain": [
       "tensor([[1, 4, 5, 6],\n",
       "        [2, 7, 8, 9]])"
      ]
     },
     "execution_count": 2,
     "metadata": {},
     "output_type": "execute_result"
    }
   ],
   "source": [
    "# Example 1 - working\n",
    "print(\"Initial tensor :\")\n",
    "x = torch.tensor([[0, 1, 2, 3], [1, 4, 5, 6], [2, 7, 8, 9], [3, 10,11,12]])\n",
    "print(x)\n",
    "print(\"After Narrowing the tensor :\")\n",
    "torch.narrow(x, 0, 1, 2)"
   ]
  },
  {
   "cell_type": "markdown",
   "metadata": {},
   "source": [
    "We have entered the tensor x , we start at the index 1 along the axis 0 and we get 2 values starting from the index 1.\n",
    "Explanation about example"
   ]
  },
  {
   "cell_type": "code",
   "execution_count": 3,
   "metadata": {},
   "outputs": [
    {
     "name": "stdout",
     "output_type": "stream",
     "text": [
      "Initial tensor :\n",
      "tensor([[ 0,  1,  2,  3],\n",
      "        [ 1,  4,  5,  6],\n",
      "        [ 2,  7,  8,  9],\n",
      "        [ 3, 10, 11, 12]])\n",
      "After Narrowing the tensor :\n"
     ]
    },
    {
     "data": {
      "text/plain": [
       "tensor([[ 0,  1,  2],\n",
       "        [ 1,  4,  5],\n",
       "        [ 2,  7,  8],\n",
       "        [ 3, 10, 11]])"
      ]
     },
     "execution_count": 3,
     "metadata": {},
     "output_type": "execute_result"
    }
   ],
   "source": [
    "# Example 2 - working\n",
    "print(\"Initial tensor :\")\n",
    "x = torch.tensor([[0, 1, 2, 3], [1, 4, 5, 6], [2, 7, 8, 9], [3, 10,11,12]])\n",
    "print(x)\n",
    "print(\"After Narrowing the tensor :\")\n",
    "torch.narrow(x, 1, 0, 3)"
   ]
  },
  {
   "cell_type": "markdown",
   "metadata": {},
   "source": [
    "We have entered the tensor x , we start at the index 0 along the axis 1 and we get 3 values starting from the index 1.\n"
   ]
  },
  {
   "cell_type": "code",
   "execution_count": 4,
   "metadata": {},
   "outputs": [
    {
     "name": "stdout",
     "output_type": "stream",
     "text": [
      "Initial tensor :\n",
      "tensor([[ 0,  1,  2,  3],\n",
      "        [ 1,  4,  5,  6],\n",
      "        [ 2,  7,  8,  9],\n",
      "        [ 3, 10, 11, 12]])\n",
      "After Narrowing the tensor :\n"
     ]
    },
    {
     "ename": "IndexError",
     "evalue": "Dimension out of range (expected to be in range of [-2, 1], but got 2)",
     "output_type": "error",
     "traceback": [
      "\u001b[0;31m---------------------------------------------------------------------------\u001b[0m",
      "\u001b[0;31mIndexError\u001b[0m                                Traceback (most recent call last)",
      "\u001b[0;32m<ipython-input-4-2a274c6ffc28>\u001b[0m in \u001b[0;36m<module>\u001b[0;34m\u001b[0m\n\u001b[1;32m      4\u001b[0m \u001b[0mprint\u001b[0m\u001b[0;34m(\u001b[0m\u001b[0mx\u001b[0m\u001b[0;34m)\u001b[0m\u001b[0;34m\u001b[0m\u001b[0;34m\u001b[0m\u001b[0m\n\u001b[1;32m      5\u001b[0m \u001b[0mprint\u001b[0m\u001b[0;34m(\u001b[0m\u001b[0;34m\"After Narrowing the tensor :\"\u001b[0m\u001b[0;34m)\u001b[0m\u001b[0;34m\u001b[0m\u001b[0;34m\u001b[0m\u001b[0m\n\u001b[0;32m----> 6\u001b[0;31m \u001b[0mtorch\u001b[0m\u001b[0;34m.\u001b[0m\u001b[0mnarrow\u001b[0m\u001b[0;34m(\u001b[0m\u001b[0mx\u001b[0m\u001b[0;34m,\u001b[0m \u001b[0;36m2\u001b[0m\u001b[0;34m,\u001b[0m \u001b[0;36m1\u001b[0m\u001b[0;34m,\u001b[0m \u001b[0;36m2\u001b[0m\u001b[0;34m)\u001b[0m\u001b[0;34m\u001b[0m\u001b[0;34m\u001b[0m\u001b[0m\n\u001b[0m",
      "\u001b[0;31mIndexError\u001b[0m: Dimension out of range (expected to be in range of [-2, 1], but got 2)"
     ]
    }
   ],
   "source": [
    "# Example 3 - breaking\n",
    "print(\"Initial tensor :\")\n",
    "x = torch.tensor([[0, 1, 2, 3], [1, 4, 5, 6], [2, 7, 8, 9], [3, 10,11,12]])\n",
    "print(x)\n",
    "print(\"After Narrowing the tensor :\")\n",
    "torch.narrow(x, 2, 1, 2)\n"
   ]
  },
  {
   "cell_type": "markdown",
   "metadata": {},
   "source": [
    "Here we are tring to use the axis 2 which is not existent thus the function breaks."
   ]
  },
  {
   "cell_type": "markdown",
   "metadata": {},
   "source": [
    "tensor.narrow() function can be used when we need to filter out the unwanted data in the dataset we are tring to generate predictions from.\n",
    "This could help us in enhancing and enriching the dataset to make better predictions and is very useful in data cleaning."
   ]
  },
  {
   "cell_type": "markdown",
   "metadata": {},
   "source": [
    "## Function 4 - torch.reshape()\n",
    "\n",
    "torch.reshape(input, shape) → Tensor\n",
    "\n",
    "In the function torch.reshape() we modify the shape of a tensor by passing in the tensor and the size of the new tensor we need."
   ]
  },
  {
   "cell_type": "code",
   "execution_count": 19,
   "metadata": {},
   "outputs": [
    {
     "name": "stdout",
     "output_type": "stream",
     "text": [
      "Initial tensor :\n",
      "tensor([  3,   7,   9,   2,  18, 100])\n",
      "After reshaping the tensor :\n"
     ]
    },
    {
     "data": {
      "text/plain": [
       "tensor([[  3,   7,   9],\n",
       "        [  2,  18, 100]])"
      ]
     },
     "execution_count": 19,
     "metadata": {},
     "output_type": "execute_result"
    }
   ],
   "source": [
    "# Example 1 - working\n",
    "print(\"Initial tensor :\")\n",
    "x = torch.tensor([3, 7 , 9 , 2 , 18 , 100])\n",
    "print(x)\n",
    "print(\"After reshaping the tensor :\")\n",
    "torch.reshape(x,(2,3))\n"
   ]
  },
  {
   "cell_type": "markdown",
   "metadata": {},
   "source": [
    "We created a tensor of size 8, now we reshaped it into a tensor of 2 cross 3 by calling the reshape command and passing into it the tensor x and the size we require."
   ]
  },
  {
   "cell_type": "code",
   "execution_count": 22,
   "metadata": {},
   "outputs": [
    {
     "name": "stdout",
     "output_type": "stream",
     "text": [
      "Initial tensor :\n",
      "tensor([[  3,   7],\n",
      "        [  9,   2],\n",
      "        [ 18, 100],\n",
      "        [  0,   6],\n",
      "        [ 23,   5]])\n",
      "After reshaping the tensor :\n"
     ]
    },
    {
     "data": {
      "text/plain": [
       "tensor([[  3,   7,   9,   2,  18],\n",
       "        [100,   0,   6,  23,   5]])"
      ]
     },
     "execution_count": 22,
     "metadata": {},
     "output_type": "execute_result"
    }
   ],
   "source": [
    "# Example 2 - working\n",
    "print(\"Initial tensor :\")\n",
    "x = torch.tensor([[3, 7 ],[ 9 , 2] , [18 , 100],[0, 6],[23,5]])\n",
    "print(x)\n",
    "print(\"After reshaping the tensor :\")\n",
    "torch.reshape(x,(2,5))\n"
   ]
  },
  {
   "cell_type": "markdown",
   "metadata": {},
   "source": [
    "We create a tensor of size (5, 2) and then we try to reshape it into a tensor of size (2,5) we are able to do so because we have enough elements to divide into two parts containing five elements each. If we don't have enough elements we will be unable to reshape the tensor.\n",
    "\n",
    "The same is illustrated below."
   ]
  },
  {
   "cell_type": "code",
   "execution_count": 23,
   "metadata": {},
   "outputs": [
    {
     "name": "stdout",
     "output_type": "stream",
     "text": [
      "Initial tensor :\n",
      "tensor([[  3,   7,  45],\n",
      "        [  9,   2,  78],\n",
      "        [ 18, 100,  11],\n",
      "        [  0,   6,   8],\n",
      "        [ 23,   5,   4]])\n",
      "After reshaping the tensor :\n"
     ]
    },
    {
     "ename": "RuntimeError",
     "evalue": "shape '[2, 5]' is invalid for input of size 15",
     "output_type": "error",
     "traceback": [
      "\u001b[0;31m---------------------------------------------------------------------------\u001b[0m",
      "\u001b[0;31mRuntimeError\u001b[0m                              Traceback (most recent call last)",
      "\u001b[0;32m<ipython-input-23-7573782b0498>\u001b[0m in \u001b[0;36m<module>\u001b[0;34m\u001b[0m\n\u001b[1;32m      4\u001b[0m \u001b[0mprint\u001b[0m\u001b[0;34m(\u001b[0m\u001b[0mx\u001b[0m\u001b[0;34m)\u001b[0m\u001b[0;34m\u001b[0m\u001b[0;34m\u001b[0m\u001b[0m\n\u001b[1;32m      5\u001b[0m \u001b[0mprint\u001b[0m\u001b[0;34m(\u001b[0m\u001b[0;34m\"After reshaping the tensor :\"\u001b[0m\u001b[0;34m)\u001b[0m\u001b[0;34m\u001b[0m\u001b[0;34m\u001b[0m\u001b[0m\n\u001b[0;32m----> 6\u001b[0;31m \u001b[0mtorch\u001b[0m\u001b[0;34m.\u001b[0m\u001b[0mreshape\u001b[0m\u001b[0;34m(\u001b[0m\u001b[0mx\u001b[0m\u001b[0;34m,\u001b[0m\u001b[0;34m(\u001b[0m\u001b[0;36m2\u001b[0m\u001b[0;34m,\u001b[0m\u001b[0;36m5\u001b[0m\u001b[0;34m)\u001b[0m\u001b[0;34m)\u001b[0m\u001b[0;34m\u001b[0m\u001b[0;34m\u001b[0m\u001b[0m\n\u001b[0m",
      "\u001b[0;31mRuntimeError\u001b[0m: shape '[2, 5]' is invalid for input of size 15"
     ]
    }
   ],
   "source": [
    "# Example 3 - breaking \n",
    "print(\"Initial tensor :\")\n",
    "x = torch.tensor([[3, 7 , 45],[ 9 , 2, 78] , [18 , 100, 11], [0, 6, 8], [23, 5, 4]])\n",
    "print(x)\n",
    "print(\"After reshaping the tensor :\")\n",
    "torch.reshape(x,(2,5))\n"
   ]
  },
  {
   "cell_type": "markdown",
   "metadata": {},
   "source": [
    "As we can see here we have the initial tensor of size (5,3) and we wanted to change it to the shape (2,5) and thus it failed because we had more elements then we were tring to reshape it into."
   ]
  },
  {
   "cell_type": "markdown",
   "metadata": {},
   "source": [
    "We can use this function to :\n",
    "1) Change the size of our tensor\n",
    "2) Cleanse and enrich the data to perform calculations and operations on it"
   ]
  },
  {
   "cell_type": "markdown",
   "metadata": {},
   "source": [
    "## Function 5 - torch.transpose()\n",
    "\n",
    "torch.transpose(input, dim0, dim1) → Tensor\n",
    "\n",
    "We are able to find the transpose of our supplied tensor using this function along the mentioned dimensions i.e. dim0 and dim1."
   ]
  },
  {
   "cell_type": "code",
   "execution_count": 5,
   "metadata": {},
   "outputs": [
    {
     "name": "stdout",
     "output_type": "stream",
     "text": [
      "Initial Tensor :\n",
      "tensor([[-0.0029,  1.0346],\n",
      "        [ 1.2681, -0.5989],\n",
      "        [ 0.0474,  0.5090],\n",
      "        [-0.2817, -1.1246],\n",
      "        [-0.7905,  0.9711]])\n"
     ]
    },
    {
     "data": {
      "text/plain": [
       "tensor([[-0.0029,  1.2681,  0.0474, -0.2817, -0.7905],\n",
       "        [ 1.0346, -0.5989,  0.5090, -1.1246,  0.9711]])"
      ]
     },
     "execution_count": 5,
     "metadata": {},
     "output_type": "execute_result"
    }
   ],
   "source": [
    "# Example 1 - working\n",
    "x = torch.randn(5, 2)\n",
    "print(\"Initial Tensor :\")\n",
    "print(x)\n",
    "torch.transpose(x, 0, 1)"
   ]
  },
  {
   "cell_type": "markdown",
   "metadata": {},
   "source": [
    "torch.transpose() works similar to the matrix transpose we do in day to day life, here we create a tensor of size (5,2) and then find its transpose along axis 0 and 1 and we get a resulting tensor of size (2,5)."
   ]
  },
  {
   "cell_type": "code",
   "execution_count": 8,
   "metadata": {},
   "outputs": [
    {
     "name": "stdout",
     "output_type": "stream",
     "text": [
      "Initial Tensor :\n",
      "tensor([[ 1.6601, -0.0946, -1.3786, -1.2378],\n",
      "        [-1.9096,  0.1220,  0.9633, -0.3411],\n",
      "        [ 0.0754,  0.2517, -1.0027,  0.6507],\n",
      "        [ 0.0743, -0.2732, -1.5047,  0.1892],\n",
      "        [ 0.7718, -0.3257, -0.1611, -0.3330]])\n"
     ]
    },
    {
     "data": {
      "text/plain": [
       "tensor([[ 1.6601, -1.9096,  0.0754,  0.0743,  0.7718],\n",
       "        [-0.0946,  0.1220,  0.2517, -0.2732, -0.3257],\n",
       "        [-1.3786,  0.9633, -1.0027, -1.5047, -0.1611],\n",
       "        [-1.2378, -0.3411,  0.6507,  0.1892, -0.3330]])"
      ]
     },
     "execution_count": 8,
     "metadata": {},
     "output_type": "execute_result"
    }
   ],
   "source": [
    "# Example 2 - working\n",
    "x = torch.randn(5, 4)\n",
    "print(\"Initial Tensor :\")\n",
    "print(x)\n",
    "torch.transpose(x, 0, 1)\n"
   ]
  },
  {
   "cell_type": "markdown",
   "metadata": {},
   "source": [
    "torch.transpose() works similar to the matrix transpose we do in day to day life, here we create a tensor of size (5,4) and then find its transpose along axis 0 and 1 and we get a resulting tensor of size (4,5)."
   ]
  },
  {
   "cell_type": "code",
   "execution_count": 10,
   "metadata": {},
   "outputs": [
    {
     "name": "stdout",
     "output_type": "stream",
     "text": [
      "Initial Tensor :\n",
      "tensor([[ 0.8846, -0.3575, -1.0857],\n",
      "        [-0.0374, -0.2319,  0.1997],\n",
      "        [-1.8523, -1.6584,  0.0986],\n",
      "        [ 0.0149,  1.0128,  1.6954],\n",
      "        [-0.2058,  0.4817, -1.2779]])\n"
     ]
    },
    {
     "ename": "IndexError",
     "evalue": "Dimension out of range (expected to be in range of [-2, 1], but got 2)",
     "output_type": "error",
     "traceback": [
      "\u001b[0;31m---------------------------------------------------------------------------\u001b[0m",
      "\u001b[0;31mIndexError\u001b[0m                                Traceback (most recent call last)",
      "\u001b[0;32m<ipython-input-10-09e35edeb0bc>\u001b[0m in \u001b[0;36m<module>\u001b[0;34m\u001b[0m\n\u001b[1;32m      3\u001b[0m \u001b[0mprint\u001b[0m\u001b[0;34m(\u001b[0m\u001b[0;34m\"Initial Tensor :\"\u001b[0m\u001b[0;34m)\u001b[0m\u001b[0;34m\u001b[0m\u001b[0;34m\u001b[0m\u001b[0m\n\u001b[1;32m      4\u001b[0m \u001b[0mprint\u001b[0m\u001b[0;34m(\u001b[0m\u001b[0mx\u001b[0m\u001b[0;34m)\u001b[0m\u001b[0;34m\u001b[0m\u001b[0;34m\u001b[0m\u001b[0m\n\u001b[0;32m----> 5\u001b[0;31m \u001b[0mtorch\u001b[0m\u001b[0;34m.\u001b[0m\u001b[0mtranspose\u001b[0m\u001b[0;34m(\u001b[0m\u001b[0mx\u001b[0m\u001b[0;34m,\u001b[0m \u001b[0;36m2\u001b[0m\u001b[0;34m,\u001b[0m \u001b[0;36m1\u001b[0m\u001b[0;34m)\u001b[0m\u001b[0;34m\u001b[0m\u001b[0;34m\u001b[0m\u001b[0m\n\u001b[0m",
      "\u001b[0;31mIndexError\u001b[0m: Dimension out of range (expected to be in range of [-2, 1], but got 2)"
     ]
    }
   ],
   "source": [
    "# Example 3 - breaking \n",
    "x = torch.randn(5, 3)\n",
    "print(\"Initial Tensor :\")\n",
    "print(x)\n",
    "torch.transpose(x, 2, 1)"
   ]
  },
  {
   "cell_type": "markdown",
   "metadata": {},
   "source": [
    "Here the function torch.transpose breaks as we have supplied the value of axis to be 2 and 1 but we only have axis available in the range [-2 , 1], and hence our function breaks."
   ]
  },
  {
   "cell_type": "markdown",
   "metadata": {},
   "source": [
    "We can use this function whenever we need to find the transpose of the torch tensor which will help us in further making the calculations on larger models easier and efficient."
   ]
  },
  {
   "cell_type": "markdown",
   "metadata": {},
   "source": [
    "## Conclusion\n",
    "\n",
    "In this notebook we have discovered some of the very interesting functions available in the PyTorch Library and have discussed the aspects how these functions can be used and implemented and how they can proove useful to us.\n"
   ]
  },
  {
   "cell_type": "markdown",
   "metadata": {},
   "source": [
    "## Reference Links\n",
    "\n",
    "* Official documentation for `torch.Tensor`: https://pytorch.org/docs/stable/tensors.html\n"
   ]
  },
  {
   "cell_type": "code",
   "execution_count": 12,
   "metadata": {},
   "outputs": [],
   "source": [
    "!pip install jovian --upgrade --quiet"
   ]
  },
  {
   "cell_type": "code",
   "execution_count": 13,
   "metadata": {},
   "outputs": [],
   "source": [
    "import jovian"
   ]
  },
  {
   "cell_type": "code",
   "execution_count": 15,
   "metadata": {},
   "outputs": [
    {
     "data": {
      "application/javascript": [
       "window.require && require([\"base/js/namespace\"],function(Jupyter){Jupyter.notebook.save_checkpoint()})"
      ],
      "text/plain": [
       "<IPython.core.display.Javascript object>"
      ]
     },
     "metadata": {},
     "output_type": "display_data"
    },
    {
     "name": "stdout",
     "output_type": "stream",
     "text": [
      "[jovian] Attempting to save notebook..\u001b[0m\n",
      "[jovian] Updating notebook \"pathak-vineeta786/assignment-1\" on https://jovian.ml/\u001b[0m\n",
      "[jovian] Uploading notebook..\u001b[0m\n",
      "[jovian] Capturing environment..\u001b[0m\n",
      "[jovian] Committed successfully! https://jovian.ml/pathak-vineeta786/assignment-1\u001b[0m\n"
     ]
    },
    {
     "data": {
      "text/plain": [
       "'https://jovian.ml/pathak-vineeta786/assignment-1'"
      ]
     },
     "execution_count": 15,
     "metadata": {},
     "output_type": "execute_result"
    }
   ],
   "source": [
    "jovian.commit()\n"
   ]
  },
  {
   "cell_type": "code",
   "execution_count": null,
   "metadata": {},
   "outputs": [],
   "source": []
  }
 ],
 "metadata": {
  "kernelspec": {
   "display_name": "Python 3",
   "language": "python",
   "name": "python3"
  },
  "language_info": {
   "codemirror_mode": {
    "name": "ipython",
    "version": 3
   },
   "file_extension": ".py",
   "mimetype": "text/x-python",
   "name": "python",
   "nbconvert_exporter": "python",
   "pygments_lexer": "ipython3",
   "version": "3.7.6"
  }
 },
 "nbformat": 4,
 "nbformat_minor": 4
}
